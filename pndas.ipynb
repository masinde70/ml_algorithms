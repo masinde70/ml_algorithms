{
 "cells": [
  {
   "cell_type": "code",
   "execution_count": 1,
   "id": "ad155a55-7ea9-4e52-8156-1fe42db94458",
   "metadata": {},
   "outputs": [],
   "source": [
    "import numpy as np"
   ]
  },
  {
   "cell_type": "code",
   "execution_count": 3,
   "id": "092ded06-7c4a-4125-9773-c971da2f1a65",
   "metadata": {},
   "outputs": [],
   "source": [
    "my_arr = np.arange(1000)\n"
   ]
  },
  {
   "cell_type": "code",
   "execution_count": 4,
   "id": "b6c8d048-6aec-420d-b651-f58b5bd59406",
   "metadata": {},
   "outputs": [],
   "source": [
    "my_list = list(range(1000))"
   ]
  },
  {
   "cell_type": "code",
   "execution_count": 20,
   "id": "b4a63ad6-c829-4c2a-b9e3-9e7870e876cd",
   "metadata": {},
   "outputs": [
    {
     "name": "stdout",
     "output_type": "stream",
     "text": [
      "CPU times: user 80 µs, sys: 40 µs, total: 120 µs\n",
      "Wall time: 97.8 µs\n"
     ]
    }
   ],
   "source": [
    "%time for _ in range(10): my_arr2 = my_arr * 2"
   ]
  },
  {
   "cell_type": "code",
   "execution_count": 30,
   "id": "50b8b419-a870-4797-ae05-5a6062e80c6b",
   "metadata": {},
   "outputs": [
    {
     "name": "stdout",
     "output_type": "stream",
     "text": [
      "CPU times: user 751 µs, sys: 1 µs, total: 752 µs\n",
      "Wall time: 755 µs\n"
     ]
    }
   ],
   "source": [
    "%time for _ in range(10): my_list2 = [x * 2 for x in my_list]"
   ]
  },
  {
   "cell_type": "code",
   "execution_count": 31,
   "id": "d4233bdf-8663-4d5f-86a2-8502c2fd3450",
   "metadata": {},
   "outputs": [],
   "source": [
    "data = np.random.randn(2, 3)"
   ]
  },
  {
   "cell_type": "code",
   "execution_count": 32,
   "id": "b4b01f5b-b6cd-456c-a260-f6f183412166",
   "metadata": {},
   "outputs": [
    {
     "data": {
      "text/plain": [
       "array([[ 1.13086923,  0.54883902, -1.49601156],\n",
       "       [ 2.1268724 ,  1.83717801,  0.53200019]])"
      ]
     },
     "execution_count": 32,
     "metadata": {},
     "output_type": "execute_result"
    }
   ],
   "source": [
    "data"
   ]
  },
  {
   "cell_type": "code",
   "execution_count": 33,
   "id": "5d3ab35b-144d-4edc-a522-31bb3f86de7c",
   "metadata": {},
   "outputs": [
    {
     "data": {
      "text/plain": [
       "array([[ 11.30869228,   5.48839019, -14.96011562],\n",
       "       [ 21.26872397,  18.37178011,   5.32000189]])"
      ]
     },
     "execution_count": 33,
     "metadata": {},
     "output_type": "execute_result"
    }
   ],
   "source": [
    "data * 10"
   ]
  },
  {
   "cell_type": "markdown",
   "id": "55bc3036-1cbe-4d3c-938a-e2c0c595a7df",
   "metadata": {},
   "source": [
    "# creating ndarrays"
   ]
  },
  {
   "cell_type": "code",
   "execution_count": 34,
   "id": "accce326-4939-4029-94e6-ebf1bd76b3e9",
   "metadata": {},
   "outputs": [],
   "source": [
    "data = [6, 7.8, 8, 0, 1]"
   ]
  },
  {
   "cell_type": "code",
   "execution_count": 35,
   "id": "d7a2fe18-2e68-4d7d-95c6-5d1e67180eb9",
   "metadata": {},
   "outputs": [],
   "source": [
    "arr1 = np.array(data)"
   ]
  },
  {
   "cell_type": "code",
   "execution_count": 36,
   "id": "3d68127d-8b28-4cc1-9b3f-fe7e50ceeb88",
   "metadata": {},
   "outputs": [
    {
     "data": {
      "text/plain": [
       "array([6. , 7.8, 8. , 0. , 1. ])"
      ]
     },
     "execution_count": 36,
     "metadata": {},
     "output_type": "execute_result"
    }
   ],
   "source": [
    "arr1"
   ]
  },
  {
   "cell_type": "code",
   "execution_count": 38,
   "id": "7d4b00c3-b768-495a-b29d-0d42d5208d66",
   "metadata": {},
   "outputs": [
    {
     "data": {
      "text/plain": [
       "(5,)"
      ]
     },
     "execution_count": 38,
     "metadata": {},
     "output_type": "execute_result"
    }
   ],
   "source": [
    "arr1.shape"
   ]
  },
  {
   "cell_type": "code",
   "execution_count": 39,
   "id": "749078b4-7385-498d-9d83-a65d74b0337d",
   "metadata": {},
   "outputs": [],
   "source": [
    "data2 = [[1,2,3],[2,3,5]]"
   ]
  },
  {
   "cell_type": "code",
   "execution_count": 40,
   "id": "be88165f-07f3-4987-aff5-e0984ebcf714",
   "metadata": {},
   "outputs": [],
   "source": [
    "arr2 = np.array(data2)"
   ]
  },
  {
   "cell_type": "code",
   "execution_count": 41,
   "id": "781ee768-6de2-4837-bcae-0baaea4681a5",
   "metadata": {},
   "outputs": [
    {
     "data": {
      "text/plain": [
       "array([[1, 2, 3],\n",
       "       [2, 3, 5]])"
      ]
     },
     "execution_count": 41,
     "metadata": {},
     "output_type": "execute_result"
    }
   ],
   "source": [
    "arr2"
   ]
  },
  {
   "cell_type": "code",
   "execution_count": 42,
   "id": "67de120e-0c2e-4c18-a981-742a0c7e2cec",
   "metadata": {},
   "outputs": [
    {
     "data": {
      "text/plain": [
       "2"
      ]
     },
     "execution_count": 42,
     "metadata": {},
     "output_type": "execute_result"
    }
   ],
   "source": [
    "arr2.ndim"
   ]
  },
  {
   "cell_type": "code",
   "execution_count": 43,
   "id": "e36dee6a-35ac-4dae-a1da-e358c0f15c48",
   "metadata": {},
   "outputs": [
    {
     "data": {
      "text/plain": [
       "(2, 3)"
      ]
     },
     "execution_count": 43,
     "metadata": {},
     "output_type": "execute_result"
    }
   ],
   "source": [
    "arr2.shape"
   ]
  },
  {
   "cell_type": "code",
   "execution_count": 44,
   "id": "00b34643-887b-46e9-96a5-ab82acbb0322",
   "metadata": {},
   "outputs": [
    {
     "data": {
      "text/plain": [
       "dtype('int64')"
      ]
     },
     "execution_count": 44,
     "metadata": {},
     "output_type": "execute_result"
    }
   ],
   "source": [
    "arr2.dtype"
   ]
  },
  {
   "cell_type": "code",
   "execution_count": null,
   "id": "2c608ffa-75eb-42d0-9b94-1d317c636f5e",
   "metadata": {},
   "outputs": [],
   "source": []
  }
 ],
 "metadata": {
  "kernelspec": {
   "display_name": "Python 3 (ipykernel)",
   "language": "python",
   "name": "python3"
  },
  "language_info": {
   "codemirror_mode": {
    "name": "ipython",
    "version": 3
   },
   "file_extension": ".py",
   "mimetype": "text/x-python",
   "name": "python",
   "nbconvert_exporter": "python",
   "pygments_lexer": "ipython3",
   "version": "3.8.12"
  }
 },
 "nbformat": 4,
 "nbformat_minor": 5
}
