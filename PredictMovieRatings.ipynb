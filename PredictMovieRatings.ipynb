{
 "cells": [
  {
   "cell_type": "code",
   "execution_count": 2,
   "id": "c5d998fb-c297-4566-994d-44384351b001",
   "metadata": {},
   "outputs": [],
   "source": [
    "import numpy as np\n",
    "import pandas as pd"
   ]
  },
  {
   "cell_type": "code",
   "execution_count": 4,
   "id": "7e457939-68f1-42b1-9016-357f92491a7d",
   "metadata": {},
   "outputs": [],
   "source": [
    "ratings_df = pd.read_csv('small_movie_ratings.csv', index_col=0)"
   ]
  },
  {
   "cell_type": "code",
   "execution_count": 5,
   "id": "2515a77c-041f-4e0b-89ed-ed0a39c9da11",
   "metadata": {},
   "outputs": [
    {
     "data": {
      "text/html": [
       "<div>\n",
       "<style scoped>\n",
       "    .dataframe tbody tr th:only-of-type {\n",
       "        vertical-align: middle;\n",
       "    }\n",
       "\n",
       "    .dataframe tbody tr th {\n",
       "        vertical-align: top;\n",
       "    }\n",
       "\n",
       "    .dataframe thead th {\n",
       "        text-align: right;\n",
       "    }\n",
       "</style>\n",
       "<table border=\"1\" class=\"dataframe\">\n",
       "  <thead>\n",
       "    <tr style=\"text-align: right;\">\n",
       "      <th></th>\n",
       "      <th>15</th>\n",
       "      <th>30</th>\n",
       "      <th>311</th>\n",
       "      <th>452</th>\n",
       "      <th>468</th>\n",
       "      <th>509</th>\n",
       "      <th>547</th>\n",
       "      <th>564</th>\n",
       "      <th>624</th>\n",
       "      <th>73</th>\n",
       "    </tr>\n",
       "    <tr>\n",
       "      <th>movie</th>\n",
       "      <th></th>\n",
       "      <th></th>\n",
       "      <th></th>\n",
       "      <th></th>\n",
       "      <th></th>\n",
       "      <th></th>\n",
       "      <th></th>\n",
       "      <th></th>\n",
       "      <th></th>\n",
       "      <th></th>\n",
       "    </tr>\n",
       "  </thead>\n",
       "  <tbody>\n",
       "    <tr>\n",
       "      <th>88 Minutes</th>\n",
       "      <td>2.0</td>\n",
       "      <td>4.0</td>\n",
       "      <td>2.0</td>\n",
       "      <td>NaN</td>\n",
       "      <td>2.0</td>\n",
       "      <td>2.0</td>\n",
       "      <td>1.5</td>\n",
       "      <td>2.0</td>\n",
       "      <td>3.0</td>\n",
       "      <td>3.5</td>\n",
       "    </tr>\n",
       "    <tr>\n",
       "      <th>A Time to Kill</th>\n",
       "      <td>3.0</td>\n",
       "      <td>5.0</td>\n",
       "      <td>2.5</td>\n",
       "      <td>2.0</td>\n",
       "      <td>2.0</td>\n",
       "      <td>3.0</td>\n",
       "      <td>NaN</td>\n",
       "      <td>4.0</td>\n",
       "      <td>3.0</td>\n",
       "      <td>3.0</td>\n",
       "    </tr>\n",
       "    <tr>\n",
       "      <th>Barry Lyndon</th>\n",
       "      <td>4.0</td>\n",
       "      <td>NaN</td>\n",
       "      <td>3.0</td>\n",
       "      <td>3.0</td>\n",
       "      <td>3.0</td>\n",
       "      <td>3.5</td>\n",
       "      <td>4.0</td>\n",
       "      <td>5.0</td>\n",
       "      <td>4.0</td>\n",
       "      <td>2.5</td>\n",
       "    </tr>\n",
       "    <tr>\n",
       "      <th>Gleaming the Cube</th>\n",
       "      <td>2.5</td>\n",
       "      <td>4.0</td>\n",
       "      <td>4.0</td>\n",
       "      <td>NaN</td>\n",
       "      <td>3.0</td>\n",
       "      <td>3.0</td>\n",
       "      <td>3.0</td>\n",
       "      <td>4.0</td>\n",
       "      <td>3.0</td>\n",
       "      <td>4.0</td>\n",
       "    </tr>\n",
       "    <tr>\n",
       "      <th>Judgment Night</th>\n",
       "      <td>4.0</td>\n",
       "      <td>4.0</td>\n",
       "      <td>4.0</td>\n",
       "      <td>4.0</td>\n",
       "      <td>3.5</td>\n",
       "      <td>3.0</td>\n",
       "      <td>2.5</td>\n",
       "      <td>1.0</td>\n",
       "      <td>NaN</td>\n",
       "      <td>4.5</td>\n",
       "    </tr>\n",
       "  </tbody>\n",
       "</table>\n",
       "</div>"
      ],
      "text/plain": [
       "                    15   30  311  452  468  509  547  564  624   73\n",
       "movie                                                              \n",
       "88 Minutes         2.0  4.0  2.0  NaN  2.0  2.0  1.5  2.0  3.0  3.5\n",
       "A Time to Kill     3.0  5.0  2.5  2.0  2.0  3.0  NaN  4.0  3.0  3.0\n",
       "Barry Lyndon       4.0  NaN  3.0  3.0  3.0  3.5  4.0  5.0  4.0  2.5\n",
       "Gleaming the Cube  2.5  4.0  4.0  NaN  3.0  3.0  3.0  4.0  3.0  4.0\n",
       "Judgment Night     4.0  4.0  4.0  4.0  3.5  3.0  2.5  1.0  NaN  4.5"
      ]
     },
     "execution_count": 5,
     "metadata": {},
     "output_type": "execute_result"
    }
   ],
   "source": [
    "ratings_df.head()"
   ]
  },
  {
   "cell_type": "markdown",
   "id": "aba971a4-eaf8-4091-967f-7edea0a526cd",
   "metadata": {},
   "source": [
    "There are some missing values in this data."
   ]
  },
  {
   "cell_type": "code",
   "execution_count": 6,
   "id": "bdef5e75-0617-46d7-8b26-c3b9637d6292",
   "metadata": {},
   "outputs": [
    {
     "name": "stdout",
     "output_type": "stream",
     "text": [
      "<class 'pandas.core.frame.DataFrame'>\n",
      "Index: 15 entries, 88 Minutes to The Terminal\n",
      "Data columns (total 10 columns):\n",
      " #   Column  Non-Null Count  Dtype  \n",
      "---  ------  --------------  -----  \n",
      " 0   15      15 non-null     float64\n",
      " 1   30      14 non-null     float64\n",
      " 2   311     13 non-null     float64\n",
      " 3   452     10 non-null     float64\n",
      " 4   468     14 non-null     float64\n",
      " 5   509     15 non-null     float64\n",
      " 6   547     12 non-null     float64\n",
      " 7   564     15 non-null     float64\n",
      " 8   624     13 non-null     float64\n",
      " 9   73      14 non-null     float64\n",
      "dtypes: float64(10)\n",
      "memory usage: 1.3+ KB\n"
     ]
    }
   ],
   "source": [
    "ratings_df.info()"
   ]
  },
  {
   "cell_type": "markdown",
   "id": "3496f67c-7658-4d64-8a3c-34c15aa6bf54",
   "metadata": {},
   "source": [
    "## Find Similarities Between Users\n",
    "We'll use the Pearson correlation coefficient to find the correlation between users based on their rated movies"
   ]
  },
  {
   "cell_type": "code",
   "execution_count": 8,
   "id": "5607fa63-ddc3-43e8-8fe5-e14d460b31ad",
   "metadata": {},
   "outputs": [],
   "source": [
    "def find_correlation_between_two_users(ratings_df: pd.DataFrame, user1: str, user2: str):\n",
    "    \"\"\"Find correlation between two users based on their rated movies using Pearson correlation\"\"\"\n",
    "    rated_movies_by_both = ratings_df[[user1, user2]].dropna(axis=0).values\n",
    "    user1_ratings = rated_movies_by_both[:, 0]\n",
    "    user2_ratings = rated_movies_by_both[:, 1]\n",
    "    return np.corrcoef(user1_ratings, user2_ratings)[0, 1]\n",
    "      "
   ]
  },
  {
   "cell_type": "markdown",
   "id": "acc8a142-0fdc-4603-9cfd-1b201ba0d491",
   "metadata": {},
   "source": [
    "## Create a matrix that shows the similarities between all pairs of users"
   ]
  },
  {
   "cell_type": "code",
   "execution_count": null,
   "id": "a0c56766-4b48-4b21-8247-39216936df75",
   "metadata": {},
   "outputs": [],
   "source": [
    "users = list(ratings_df.columns)\n",
    "movies = list(ratings_df.index)\n",
    "similarity_matrix = np.array([[find_correlation_between_two_users(ratings_df, user1, user2) for user1 in users] for user2 in users])\n",
    "similarity_df = pd.DataFrame(similarity_matrix, columns=users, index=users)\n",
    "similarity_df"
   ]
  },
  {
   "cell_type": "markdown",
   "id": "1151fcbd-ceea-4c43-b740-aa279284deda",
   "metadata": {},
   "source": [
    "# Get Similar Users\n",
    "Imagine we want to predict the rating of user 3 for the movie 1 based on the ratings of other users. we first want to select only the users who have rated move 1."
   ]
  },
  {
   "cell_type": "code",
   "execution_count": 11,
   "id": "0914a1e4-069e-46e9-91ac-b4c08620ac63",
   "metadata": {},
   "outputs": [],
   "source": [
    "def get_rated_for_a_movie(ratings_df: pd.DataFrame, movie: str):\n",
    "    return ratings_df.loc[movie, :].dropna().index.values"
   ]
  },
  {
   "cell_type": "markdown",
   "id": "529c2fc1-87fd-4e1e-94be-611222b4aa44",
   "metadata": {},
   "source": [
    "Next, we only pick the k number of users that are the most similar to user 3."
   ]
  },
  {
   "cell_type": "code",
   "execution_count": null,
   "id": "64ebe548-6809-4827-b78d-63124194fefd",
   "metadata": {},
   "outputs": [],
   "source": []
  }
 ],
 "metadata": {
  "kernelspec": {
   "display_name": "Python 3 (ipykernel)",
   "language": "python",
   "name": "python3"
  },
  "language_info": {
   "codemirror_mode": {
    "name": "ipython",
    "version": 3
   },
   "file_extension": ".py",
   "mimetype": "text/x-python",
   "name": "python",
   "nbconvert_exporter": "python",
   "pygments_lexer": "ipython3",
   "version": "3.8.12"
  }
 },
 "nbformat": 4,
 "nbformat_minor": 5
}
