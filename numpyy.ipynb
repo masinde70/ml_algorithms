{
 "cells": [
  {
   "cell_type": "code",
   "execution_count": 1,
   "id": "10f221db-49f9-49f2-bbc1-7c87bccc7460",
   "metadata": {},
   "outputs": [],
   "source": [
    "import numpy as np"
   ]
  },
  {
   "cell_type": "markdown",
   "id": "3145dd95-72a7-4395-9d64-6546148b9d22",
   "metadata": {},
   "source": [
    "## Creating ndarrays\n"
   ]
  },
  {
   "cell_type": "code",
   "execution_count": 2,
   "id": "1607e1ad-df17-4a90-911b-3713fdbc5879",
   "metadata": {},
   "outputs": [],
   "source": [
    "arr = np.arange(10)\n"
   ]
  },
  {
   "cell_type": "code",
   "execution_count": 3,
   "id": "9f4d92bc-07de-43fe-8b90-03c72d1267e7",
   "metadata": {},
   "outputs": [
    {
     "data": {
      "text/plain": [
       "array([0, 1, 2, 3, 4, 5, 6, 7, 8, 9])"
      ]
     },
     "execution_count": 3,
     "metadata": {},
     "output_type": "execute_result"
    }
   ],
   "source": [
    "arr"
   ]
  },
  {
   "cell_type": "code",
   "execution_count": 4,
   "id": "db88fc92-a485-4d6d-9721-04e79057a9f1",
   "metadata": {},
   "outputs": [
    {
     "data": {
      "text/plain": [
       "4"
      ]
     },
     "execution_count": 4,
     "metadata": {},
     "output_type": "execute_result"
    }
   ],
   "source": [
    "arr[4]"
   ]
  },
  {
   "cell_type": "code",
   "execution_count": 5,
   "id": "494dffb1-2c04-4d3f-a7c6-c160d4154976",
   "metadata": {},
   "outputs": [
    {
     "data": {
      "text/plain": [
       "array([5, 6, 7])"
      ]
     },
     "execution_count": 5,
     "metadata": {},
     "output_type": "execute_result"
    }
   ],
   "source": [
    "arr[5:8]"
   ]
  },
  {
   "cell_type": "code",
   "execution_count": 6,
   "id": "9491ebf3-0b13-4148-b656-a62736ef21f9",
   "metadata": {},
   "outputs": [],
   "source": [
    "arr[5:8] = 12"
   ]
  },
  {
   "cell_type": "code",
   "execution_count": 7,
   "id": "15819176-660e-44bb-b017-c436c04055ad",
   "metadata": {},
   "outputs": [
    {
     "data": {
      "text/plain": [
       "array([ 0,  1,  2,  3,  4, 12, 12, 12,  8,  9])"
      ]
     },
     "execution_count": 7,
     "metadata": {},
     "output_type": "execute_result"
    }
   ],
   "source": [
    "arr"
   ]
  },
  {
   "cell_type": "code",
   "execution_count": 8,
   "id": "73559e2d-919f-4cb1-a367-92910d7e296c",
   "metadata": {},
   "outputs": [],
   "source": [
    "arr_slice = arr[5:8]"
   ]
  },
  {
   "cell_type": "code",
   "execution_count": 9,
   "id": "ada34f56-c81d-419e-9cea-a481bfac3776",
   "metadata": {},
   "outputs": [
    {
     "data": {
      "text/plain": [
       "array([12, 12, 12])"
      ]
     },
     "execution_count": 9,
     "metadata": {},
     "output_type": "execute_result"
    }
   ],
   "source": [
    "arr_slice"
   ]
  },
  {
   "cell_type": "code",
   "execution_count": 10,
   "id": "b77a37c8-5e3f-4dae-9bc3-a75e7733d514",
   "metadata": {},
   "outputs": [],
   "source": [
    "arr_slice[0] = 12345"
   ]
  },
  {
   "cell_type": "code",
   "execution_count": 11,
   "id": "73df0167-b92a-480d-aefc-ace667341c6b",
   "metadata": {},
   "outputs": [
    {
     "data": {
      "text/plain": [
       "array([    0,     1,     2,     3,     4, 12345,    12,    12,     8,\n",
       "           9])"
      ]
     },
     "execution_count": 11,
     "metadata": {},
     "output_type": "execute_result"
    }
   ],
   "source": [
    "arr"
   ]
  },
  {
   "cell_type": "code",
   "execution_count": 12,
   "id": "6841c2d9-59ce-4e4c-a5c6-34c5d43f5e9a",
   "metadata": {},
   "outputs": [],
   "source": [
    "arr2d = np.array([[1, 2, 3],[4, 5, 6], [7, 8, 9]])"
   ]
  },
  {
   "cell_type": "code",
   "execution_count": 13,
   "id": "e5bffbf7-6df9-4b56-aa09-c92a15d302a7",
   "metadata": {},
   "outputs": [
    {
     "data": {
      "text/plain": [
       "array([7, 8, 9])"
      ]
     },
     "execution_count": 13,
     "metadata": {},
     "output_type": "execute_result"
    }
   ],
   "source": [
    "arr2d[2]"
   ]
  },
  {
   "cell_type": "code",
   "execution_count": 14,
   "id": "719c406e-4e73-475c-b6b8-a2713f2aec72",
   "metadata": {},
   "outputs": [
    {
     "data": {
      "text/plain": [
       "9"
      ]
     },
     "execution_count": 14,
     "metadata": {},
     "output_type": "execute_result"
    }
   ],
   "source": [
    "arr2d[2,2]"
   ]
  },
  {
   "cell_type": "code",
   "execution_count": 15,
   "id": "75c1b6ea-89aa-435f-adbe-b47413653cc1",
   "metadata": {},
   "outputs": [],
   "source": [
    "arr3d = np.array([[[1,2,3],[4,5,6]], [[7,8,9],[10,11,12]]])"
   ]
  },
  {
   "cell_type": "code",
   "execution_count": 16,
   "id": "d4f6513d-c48f-458c-946e-92d06811ca19",
   "metadata": {},
   "outputs": [
    {
     "data": {
      "text/plain": [
       "array([[[ 1,  2,  3],\n",
       "        [ 4,  5,  6]],\n",
       "\n",
       "       [[ 7,  8,  9],\n",
       "        [10, 11, 12]]])"
      ]
     },
     "execution_count": 16,
     "metadata": {},
     "output_type": "execute_result"
    }
   ],
   "source": [
    "arr3d"
   ]
  },
  {
   "cell_type": "code",
   "execution_count": 17,
   "id": "3ec9681f-eb24-47b8-8b37-d129627990c2",
   "metadata": {},
   "outputs": [
    {
     "data": {
      "text/plain": [
       "array([[1, 2, 3],\n",
       "       [4, 5, 6]])"
      ]
     },
     "execution_count": 17,
     "metadata": {},
     "output_type": "execute_result"
    }
   ],
   "source": [
    "arr3d[0]\n"
   ]
  },
  {
   "cell_type": "code",
   "execution_count": 18,
   "id": "0414887f-9278-408c-922b-e7f97d31e48f",
   "metadata": {},
   "outputs": [],
   "source": [
    "old_values = arr3d[0].copy()"
   ]
  },
  {
   "cell_type": "code",
   "execution_count": 19,
   "id": "91bb1119-76fe-4e68-9faf-e8209fba1005",
   "metadata": {},
   "outputs": [],
   "source": [
    "arr3d[0] = 43"
   ]
  },
  {
   "cell_type": "code",
   "execution_count": 20,
   "id": "1f677f93-7d38-4aa4-ab83-2cf5fe97028f",
   "metadata": {},
   "outputs": [
    {
     "data": {
      "text/plain": [
       "array([[[43, 43, 43],\n",
       "        [43, 43, 43]],\n",
       "\n",
       "       [[ 7,  8,  9],\n",
       "        [10, 11, 12]]])"
      ]
     },
     "execution_count": 20,
     "metadata": {},
     "output_type": "execute_result"
    }
   ],
   "source": [
    "arr3d"
   ]
  },
  {
   "cell_type": "code",
   "execution_count": 21,
   "id": "c04640cf-afab-48cb-a9ae-82ff31319bf7",
   "metadata": {},
   "outputs": [],
   "source": [
    "arr3d[0] = old_values"
   ]
  },
  {
   "cell_type": "code",
   "execution_count": 22,
   "id": "d0d61e59-af58-4407-b738-44b097dce7dd",
   "metadata": {},
   "outputs": [
    {
     "data": {
      "text/plain": [
       "array([[[ 1,  2,  3],\n",
       "        [ 4,  5,  6]],\n",
       "\n",
       "       [[ 7,  8,  9],\n",
       "        [10, 11, 12]]])"
      ]
     },
     "execution_count": 22,
     "metadata": {},
     "output_type": "execute_result"
    }
   ],
   "source": [
    "arr3d"
   ]
  },
  {
   "cell_type": "code",
   "execution_count": 23,
   "id": "8cf57bb9-2d95-4222-82a1-cfbcdb646113",
   "metadata": {},
   "outputs": [
    {
     "data": {
      "text/plain": [
       "array([[ 7,  8,  9],\n",
       "       [10, 11, 12]])"
      ]
     },
     "execution_count": 23,
     "metadata": {},
     "output_type": "execute_result"
    }
   ],
   "source": [
    "arr3d[1]\n"
   ]
  },
  {
   "cell_type": "markdown",
   "id": "282efe0b-8d22-4d7c-bab4-528089c4fc33",
   "metadata": {},
   "source": [
    "## index with slicing "
   ]
  },
  {
   "cell_type": "code",
   "execution_count": 24,
   "id": "01e4901a-e457-4c53-8907-35d6648f83d9",
   "metadata": {},
   "outputs": [
    {
     "data": {
      "text/plain": [
       "array([    0,     1,     2,     3,     4, 12345,    12,    12,     8,\n",
       "           9])"
      ]
     },
     "execution_count": 24,
     "metadata": {},
     "output_type": "execute_result"
    }
   ],
   "source": [
    "arr"
   ]
  },
  {
   "cell_type": "code",
   "execution_count": 25,
   "id": "bc8a4f59-7868-40fd-8995-14469a1b40db",
   "metadata": {},
   "outputs": [
    {
     "data": {
      "text/plain": [
       "array([    1,     2,     3,     4, 12345])"
      ]
     },
     "execution_count": 25,
     "metadata": {},
     "output_type": "execute_result"
    }
   ],
   "source": [
    "arr[1:6]"
   ]
  },
  {
   "cell_type": "code",
   "execution_count": 26,
   "id": "07f634a3-05a9-41ef-bd93-36bd24e7c317",
   "metadata": {},
   "outputs": [
    {
     "data": {
      "text/plain": [
       "array([[1, 2, 3],\n",
       "       [4, 5, 6],\n",
       "       [7, 8, 9]])"
      ]
     },
     "execution_count": 26,
     "metadata": {},
     "output_type": "execute_result"
    }
   ],
   "source": [
    "arr2d"
   ]
  },
  {
   "cell_type": "code",
   "execution_count": 27,
   "id": "b49f0b38-8fc5-4cea-bf2c-7fadab893fe5",
   "metadata": {},
   "outputs": [
    {
     "data": {
      "text/plain": [
       "array([[1, 2, 3],\n",
       "       [4, 5, 6]])"
      ]
     },
     "execution_count": 27,
     "metadata": {},
     "output_type": "execute_result"
    }
   ],
   "source": [
    "arr2d[:2] # selecting two rows"
   ]
  },
  {
   "cell_type": "code",
   "execution_count": 28,
   "id": "64eb7d77-b387-46e9-9dfa-0634d2cde905",
   "metadata": {},
   "outputs": [
    {
     "data": {
      "text/plain": [
       "array([[2, 3],\n",
       "       [5, 6]])"
      ]
     },
     "execution_count": 28,
     "metadata": {},
     "output_type": "execute_result"
    }
   ],
   "source": [
    "arr2d[:2, 1:]"
   ]
  },
  {
   "cell_type": "code",
   "execution_count": 29,
   "id": "e7922685-0344-4259-b1af-32b3ee6e8c2b",
   "metadata": {},
   "outputs": [
    {
     "data": {
      "text/plain": [
       "array([[1, 2, 3],\n",
       "       [4, 5, 6],\n",
       "       [7, 8, 9]])"
      ]
     },
     "execution_count": 29,
     "metadata": {},
     "output_type": "execute_result"
    }
   ],
   "source": [
    "arr2d[:, :]"
   ]
  },
  {
   "cell_type": "code",
   "execution_count": 30,
   "id": "6056737c-3775-4879-8396-245bab75dd47",
   "metadata": {},
   "outputs": [
    {
     "data": {
      "text/plain": [
       "array([4, 5])"
      ]
     },
     "execution_count": 30,
     "metadata": {},
     "output_type": "execute_result"
    }
   ],
   "source": [
    "arr2d[1, :2] # select second row and the first two columns"
   ]
  },
  {
   "cell_type": "code",
   "execution_count": 31,
   "id": "013f444b-310e-49aa-9eaf-ebe11491f1a9",
   "metadata": {},
   "outputs": [
    {
     "data": {
      "text/plain": [
       "array([3, 6])"
      ]
     },
     "execution_count": 31,
     "metadata": {},
     "output_type": "execute_result"
    }
   ],
   "source": [
    "arr2d[:2, 2] # Third column but only first two rows"
   ]
  },
  {
   "cell_type": "code",
   "execution_count": 32,
   "id": "c71f0294-5ea7-48e9-8164-eb0c4fdd9bd1",
   "metadata": {},
   "outputs": [
    {
     "data": {
      "text/plain": [
       "array([[1],\n",
       "       [4],\n",
       "       [7]])"
      ]
     },
     "execution_count": 32,
     "metadata": {},
     "output_type": "execute_result"
    }
   ],
   "source": [
    "arr2d[:, :1] # selecting the entire axis through the colon"
   ]
  },
  {
   "cell_type": "code",
   "execution_count": 33,
   "id": "047c3041-abe0-4faf-8f01-3b020288f297",
   "metadata": {},
   "outputs": [
    {
     "data": {
      "text/plain": [
       "array([4, 5, 6])"
      ]
     },
     "execution_count": 33,
     "metadata": {},
     "output_type": "execute_result"
    }
   ],
   "source": [
    "arr2d[1, :]"
   ]
  },
  {
   "cell_type": "code",
   "execution_count": 34,
   "id": "2e232e4e-fa84-4a5e-84f7-3838670598ef",
   "metadata": {},
   "outputs": [
    {
     "data": {
      "text/plain": [
       "array([[1],\n",
       "       [4],\n",
       "       [7]])"
      ]
     },
     "execution_count": 34,
     "metadata": {},
     "output_type": "execute_result"
    }
   ],
   "source": [
    "arr2d[:, :1]"
   ]
  },
  {
   "cell_type": "code",
   "execution_count": 35,
   "id": "dce73eb9-3f8d-4001-842d-2ca013974f23",
   "metadata": {},
   "outputs": [
    {
     "data": {
      "text/plain": [
       "5"
      ]
     },
     "execution_count": 35,
     "metadata": {},
     "output_type": "execute_result"
    }
   ],
   "source": [
    "arr2d[1, 1]"
   ]
  },
  {
   "cell_type": "code",
   "execution_count": 36,
   "id": "2f23377d-5271-48ca-8850-04d238b0a183",
   "metadata": {},
   "outputs": [
    {
     "data": {
      "text/plain": [
       "array([4, 5, 6])"
      ]
     },
     "execution_count": 36,
     "metadata": {},
     "output_type": "execute_result"
    }
   ],
   "source": [
    "arr2d[1, :3]"
   ]
  },
  {
   "cell_type": "code",
   "execution_count": 37,
   "id": "185507f8-a18f-405b-9754-ea969f6e97a8",
   "metadata": {},
   "outputs": [],
   "source": [
    "arr2d[:2, 1:] = 0"
   ]
  },
  {
   "cell_type": "code",
   "execution_count": 38,
   "id": "2615ee71-d093-4a12-92df-8d6c5fdac95f",
   "metadata": {},
   "outputs": [
    {
     "data": {
      "text/plain": [
       "array([[1, 0, 0],\n",
       "       [4, 0, 0],\n",
       "       [7, 8, 9]])"
      ]
     },
     "execution_count": 38,
     "metadata": {},
     "output_type": "execute_result"
    }
   ],
   "source": [
    "arr2d"
   ]
  },
  {
   "cell_type": "code",
   "execution_count": 39,
   "id": "0872e4cd-06b2-47f3-9ad1-a87ab7aee1a0",
   "metadata": {},
   "outputs": [
    {
     "data": {
      "text/plain": [
       "(3, 3)"
      ]
     },
     "execution_count": 39,
     "metadata": {},
     "output_type": "execute_result"
    }
   ],
   "source": [
    "arr2d.shape"
   ]
  },
  {
   "cell_type": "code",
   "execution_count": 40,
   "id": "5fe9840c-05a6-49ed-88cf-a01d94073ceb",
   "metadata": {},
   "outputs": [],
   "source": [
    "arr2d[:2, ] = 0"
   ]
  },
  {
   "cell_type": "code",
   "execution_count": 41,
   "id": "8571bb96-a0f1-486d-ade4-0e112ad6edcc",
   "metadata": {},
   "outputs": [
    {
     "data": {
      "text/plain": [
       "array([[0, 0, 0],\n",
       "       [0, 0, 0],\n",
       "       [7, 8, 9]])"
      ]
     },
     "execution_count": 41,
     "metadata": {},
     "output_type": "execute_result"
    }
   ],
   "source": [
    "arr2d"
   ]
  },
  {
   "cell_type": "markdown",
   "id": "fabdaaf9-e057-4c78-8e91-e97774519e95",
   "metadata": {},
   "source": [
    "# Boolean Indexing"
   ]
  },
  {
   "cell_type": "code",
   "execution_count": 42,
   "id": "06528c3d-5ec6-4fa2-b813-b406b380f55e",
   "metadata": {},
   "outputs": [],
   "source": [
    "names = np.array(['Bob', 'Joe', 'Will', 'Bob', 'Will', 'Joe', 'Joe'])"
   ]
  },
  {
   "cell_type": "code",
   "execution_count": 43,
   "id": "3dea22c1-e162-4e7d-afdc-6efd978dea59",
   "metadata": {},
   "outputs": [],
   "source": [
    "data = np.random.randn(7, 4)"
   ]
  },
  {
   "cell_type": "code",
   "execution_count": 44,
   "id": "9b599ad3-643f-4e10-9747-1b185c92fc6d",
   "metadata": {},
   "outputs": [
    {
     "data": {
      "text/plain": [
       "array([[-0.32570732, -1.6166031 ,  1.61634637,  0.54246886],\n",
       "       [ 0.8510554 ,  0.93875616, -1.49845397,  1.50273531],\n",
       "       [-1.29881188, -0.07470567, -1.09164549, -0.07532317],\n",
       "       [-1.05878285,  0.33850456,  0.50947263,  0.10404379],\n",
       "       [ 0.51144801, -0.68313156, -0.82814034, -0.79275602],\n",
       "       [ 0.03578283, -0.20761868,  0.64270256, -0.05747425],\n",
       "       [-0.70458243,  1.11353965, -0.89560449, -1.48269102]])"
      ]
     },
     "execution_count": 44,
     "metadata": {},
     "output_type": "execute_result"
    }
   ],
   "source": [
    "data"
   ]
  },
  {
   "cell_type": "code",
   "execution_count": 45,
   "id": "a7e48ad3-f075-4dff-83fc-947ee407851a",
   "metadata": {},
   "outputs": [
    {
     "data": {
      "text/plain": [
       "(7, 4)"
      ]
     },
     "execution_count": 45,
     "metadata": {},
     "output_type": "execute_result"
    }
   ],
   "source": [
    "data.shape"
   ]
  },
  {
   "cell_type": "code",
   "execution_count": null,
   "id": "aae6c2d1-0816-4bfa-828e-c82ea00be73d",
   "metadata": {},
   "outputs": [],
   "source": []
  },
  {
   "cell_type": "code",
   "execution_count": 46,
   "id": "ff8a8436-a57f-4570-8be0-8f6d642c50fb",
   "metadata": {},
   "outputs": [
    {
     "data": {
      "text/plain": [
       "array(['Bob', 'Joe', 'Will', 'Bob', 'Will', 'Joe', 'Joe'], dtype='<U4')"
      ]
     },
     "execution_count": 46,
     "metadata": {},
     "output_type": "execute_result"
    }
   ],
   "source": [
    "names"
   ]
  },
  {
   "cell_type": "code",
   "execution_count": 47,
   "id": "5393ecc3-810a-479f-a761-5bf72d9fe8ba",
   "metadata": {},
   "outputs": [
    {
     "data": {
      "text/plain": [
       "array([ True, False, False,  True, False, False, False])"
      ]
     },
     "execution_count": 47,
     "metadata": {},
     "output_type": "execute_result"
    }
   ],
   "source": [
    "names == 'Bob'"
   ]
  },
  {
   "cell_type": "code",
   "execution_count": 48,
   "id": "a598b8b2-3c2e-410b-b7cc-b0442b60624b",
   "metadata": {},
   "outputs": [
    {
     "data": {
      "text/plain": [
       "array([[-0.32570732, -1.6166031 ,  1.61634637,  0.54246886],\n",
       "       [-1.05878285,  0.33850456,  0.50947263,  0.10404379]])"
      ]
     },
     "execution_count": 48,
     "metadata": {},
     "output_type": "execute_result"
    }
   ],
   "source": [
    "data[names == 'Bob']"
   ]
  },
  {
   "cell_type": "code",
   "execution_count": 49,
   "id": "24ee32a0-c768-4dc9-b0a0-0e6e4495c6ba",
   "metadata": {},
   "outputs": [
    {
     "data": {
      "text/plain": [
       "array([[1.61634637, 0.54246886],\n",
       "       [0.50947263, 0.10404379]])"
      ]
     },
     "execution_count": 49,
     "metadata": {},
     "output_type": "execute_result"
    }
   ],
   "source": [
    "data[names == 'Bob', 2:]"
   ]
  },
  {
   "cell_type": "code",
   "execution_count": 50,
   "id": "05094b08-730d-4293-815e-bf0938373b82",
   "metadata": {},
   "outputs": [
    {
     "data": {
      "text/plain": [
       "array([[-0.32570732, -1.6166031 ,  1.61634637,  0.54246886],\n",
       "       [ 0.8510554 ,  0.93875616, -1.49845397,  1.50273531],\n",
       "       [-1.29881188, -0.07470567, -1.09164549, -0.07532317],\n",
       "       [-1.05878285,  0.33850456,  0.50947263,  0.10404379],\n",
       "       [ 0.51144801, -0.68313156, -0.82814034, -0.79275602],\n",
       "       [ 0.03578283, -0.20761868,  0.64270256, -0.05747425],\n",
       "       [-0.70458243,  1.11353965, -0.89560449, -1.48269102]])"
      ]
     },
     "execution_count": 50,
     "metadata": {},
     "output_type": "execute_result"
    }
   ],
   "source": [
    "data\n"
   ]
  },
  {
   "cell_type": "code",
   "execution_count": 51,
   "id": "9bde56e2-bbd8-4760-af78-8b282763629a",
   "metadata": {},
   "outputs": [
    {
     "data": {
      "text/plain": [
       "array(['Bob', 'Joe', 'Will', 'Bob', 'Will', 'Joe', 'Joe'], dtype='<U4')"
      ]
     },
     "execution_count": 51,
     "metadata": {},
     "output_type": "execute_result"
    }
   ],
   "source": [
    "names"
   ]
  },
  {
   "cell_type": "code",
   "execution_count": 52,
   "id": "047a7d2e-25b0-4ebc-8ece-7e64f0d11f29",
   "metadata": {},
   "outputs": [],
   "source": [
    "mask = (names == 'Bob') | (names == 'will')"
   ]
  },
  {
   "cell_type": "code",
   "execution_count": 53,
   "id": "3bc288b8-2617-41d3-9295-2f7f472e0eba",
   "metadata": {},
   "outputs": [
    {
     "data": {
      "text/plain": [
       "array([ True, False, False,  True, False, False, False])"
      ]
     },
     "execution_count": 53,
     "metadata": {},
     "output_type": "execute_result"
    }
   ],
   "source": [
    "mask"
   ]
  },
  {
   "cell_type": "code",
   "execution_count": 54,
   "id": "cf1ce2b1-e529-4a0d-8678-8d6de678922e",
   "metadata": {},
   "outputs": [
    {
     "data": {
      "text/plain": [
       "array([[-0.32570732, -1.6166031 ,  1.61634637,  0.54246886],\n",
       "       [-1.05878285,  0.33850456,  0.50947263,  0.10404379]])"
      ]
     },
     "execution_count": 54,
     "metadata": {},
     "output_type": "execute_result"
    }
   ],
   "source": [
    "data[mask]"
   ]
  },
  {
   "cell_type": "code",
   "execution_count": 55,
   "id": "53af5a02-9cef-430b-8553-8a1aa28ff230",
   "metadata": {},
   "outputs": [
    {
     "data": {
      "text/plain": [
       "array([[-0.32570732, -1.6166031 ,  1.61634637,  0.54246886],\n",
       "       [ 0.8510554 ,  0.93875616, -1.49845397,  1.50273531],\n",
       "       [-1.29881188, -0.07470567, -1.09164549, -0.07532317],\n",
       "       [-1.05878285,  0.33850456,  0.50947263,  0.10404379],\n",
       "       [ 0.51144801, -0.68313156, -0.82814034, -0.79275602],\n",
       "       [ 0.03578283, -0.20761868,  0.64270256, -0.05747425],\n",
       "       [-0.70458243,  1.11353965, -0.89560449, -1.48269102]])"
      ]
     },
     "execution_count": 55,
     "metadata": {},
     "output_type": "execute_result"
    }
   ],
   "source": [
    "data"
   ]
  },
  {
   "cell_type": "code",
   "execution_count": 56,
   "id": "1e7ed3ce-1162-458f-b6d6-ea64b510d5b8",
   "metadata": {},
   "outputs": [
    {
     "data": {
      "text/plain": [
       "array([[-0.32570732, -1.6166031 ,  1.61634637,  0.54246886],\n",
       "       [-1.05878285,  0.33850456,  0.50947263,  0.10404379]])"
      ]
     },
     "execution_count": 56,
     "metadata": {},
     "output_type": "execute_result"
    }
   ],
   "source": [
    "\n",
    "data[names == 'Bob']"
   ]
  },
  {
   "cell_type": "code",
   "execution_count": 57,
   "id": "1b150a74-a714-4944-97df-f307b0bcd38b",
   "metadata": {},
   "outputs": [],
   "source": [
    "cond = names == 'Bob'"
   ]
  },
  {
   "cell_type": "code",
   "execution_count": 58,
   "id": "d03130e6-6a48-4bd2-a3bf-6aa2f81350e6",
   "metadata": {},
   "outputs": [
    {
     "data": {
      "text/plain": [
       "array([[ 0.8510554 ,  0.93875616, -1.49845397,  1.50273531],\n",
       "       [-1.29881188, -0.07470567, -1.09164549, -0.07532317],\n",
       "       [ 0.51144801, -0.68313156, -0.82814034, -0.79275602],\n",
       "       [ 0.03578283, -0.20761868,  0.64270256, -0.05747425],\n",
       "       [-0.70458243,  1.11353965, -0.89560449, -1.48269102]])"
      ]
     },
     "execution_count": 58,
     "metadata": {},
     "output_type": "execute_result"
    }
   ],
   "source": [
    "data[~cond]"
   ]
  },
  {
   "cell_type": "code",
   "execution_count": 61,
   "id": "05715039-7e2b-4f9e-af79-f4090f381c32",
   "metadata": {},
   "outputs": [],
   "source": [
    "mask = (names == 'Bob') | (names == 'will')"
   ]
  },
  {
   "cell_type": "code",
   "execution_count": 62,
   "id": "07ad2f5e-41d5-456a-bbc2-54ba180b9c7d",
   "metadata": {},
   "outputs": [
    {
     "data": {
      "text/plain": [
       "array([[-0.32570732, -1.6166031 ,  1.61634637,  0.54246886],\n",
       "       [-1.05878285,  0.33850456,  0.50947263,  0.10404379]])"
      ]
     },
     "execution_count": 62,
     "metadata": {},
     "output_type": "execute_result"
    }
   ],
   "source": [
    "data[mask]"
   ]
  },
  {
   "cell_type": "code",
   "execution_count": 63,
   "id": "5010a582-8657-4011-ab4a-3b025443ad69",
   "metadata": {},
   "outputs": [],
   "source": [
    "data[data < 0] = 0"
   ]
  },
  {
   "cell_type": "code",
   "execution_count": 64,
   "id": "eea13ad8-c5e5-4e3b-bb92-940f15a50f52",
   "metadata": {},
   "outputs": [
    {
     "data": {
      "text/plain": [
       "array([[0.        , 0.        , 1.61634637, 0.54246886],\n",
       "       [0.8510554 , 0.93875616, 0.        , 1.50273531],\n",
       "       [0.        , 0.        , 0.        , 0.        ],\n",
       "       [0.        , 0.33850456, 0.50947263, 0.10404379],\n",
       "       [0.51144801, 0.        , 0.        , 0.        ],\n",
       "       [0.03578283, 0.        , 0.64270256, 0.        ],\n",
       "       [0.        , 1.11353965, 0.        , 0.        ]])"
      ]
     },
     "execution_count": 64,
     "metadata": {},
     "output_type": "execute_result"
    }
   ],
   "source": [
    "data"
   ]
  },
  {
   "cell_type": "code",
   "execution_count": 65,
   "id": "c3b76963-8c30-427c-b7f0-c120a208cc64",
   "metadata": {},
   "outputs": [],
   "source": [
    "data[names != 'Joe'] = 7"
   ]
  },
  {
   "cell_type": "code",
   "execution_count": 66,
   "id": "a7ff339e-ddd2-42b9-8114-14066bfdde81",
   "metadata": {},
   "outputs": [
    {
     "data": {
      "text/plain": [
       "array([[7.        , 7.        , 7.        , 7.        ],\n",
       "       [0.8510554 , 0.93875616, 0.        , 1.50273531],\n",
       "       [7.        , 7.        , 7.        , 7.        ],\n",
       "       [7.        , 7.        , 7.        , 7.        ],\n",
       "       [7.        , 7.        , 7.        , 7.        ],\n",
       "       [0.03578283, 0.        , 0.64270256, 0.        ],\n",
       "       [0.        , 1.11353965, 0.        , 0.        ]])"
      ]
     },
     "execution_count": 66,
     "metadata": {},
     "output_type": "execute_result"
    }
   ],
   "source": [
    "data"
   ]
  },
  {
   "cell_type": "code",
   "execution_count": null,
   "id": "4175a2e4-672a-4e30-b02b-765c742eae61",
   "metadata": {},
   "outputs": [],
   "source": []
  }
 ],
 "metadata": {
  "kernelspec": {
   "display_name": "Python 3 (ipykernel)",
   "language": "python",
   "name": "python3"
  },
  "language_info": {
   "codemirror_mode": {
    "name": "ipython",
    "version": 3
   },
   "file_extension": ".py",
   "mimetype": "text/x-python",
   "name": "python",
   "nbconvert_exporter": "python",
   "pygments_lexer": "ipython3",
   "version": "3.8.12"
  }
 },
 "nbformat": 4,
 "nbformat_minor": 5
}
